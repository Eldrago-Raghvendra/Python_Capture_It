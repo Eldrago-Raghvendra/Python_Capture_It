{
 "cells": [
  {
   "cell_type": "code",
   "execution_count": 1,
   "metadata": {},
   "outputs": [
    {
     "name": "stdout",
     "output_type": "stream",
     "text": [
      "[41, 31, 21, 11, 1]\n",
      "104\n"
     ]
    }
   ],
   "source": [
    "def reversing(l):\n",
    "    l5=[]\n",
    "    for i in range(len(l)-1,-1,-1):\n",
    "        l5.append(l[i])\n",
    "    return l5    \n",
    "def sum(l):\n",
    "    cnt=0\n",
    "    n=len(l)\n",
    "    for i in range(1,n):\n",
    "        cnt=cnt+l[i]\n",
    "    return cnt   \n",
    "l = [1, 11, 21, 31, 41] \n",
    "print(reversing(l))\n",
    "print(sum(l))"
   ]
  },
  {
   "cell_type": "code",
   "execution_count": null,
   "metadata": {},
   "outputs": [],
   "source": []
  }
 ],
 "metadata": {
  "kernelspec": {
   "display_name": "Python 3",
   "language": "python",
   "name": "python3"
  },
  "language_info": {
   "codemirror_mode": {
    "name": "ipython",
    "version": 3
   },
   "file_extension": ".py",
   "mimetype": "text/x-python",
   "name": "python",
   "nbconvert_exporter": "python",
   "pygments_lexer": "ipython3",
   "version": "3.8.3"
  }
 },
 "nbformat": 4,
 "nbformat_minor": 4
}
