{
 "cells": [
  {
   "cell_type": "code",
   "execution_count": 1,
   "metadata": {},
   "outputs": [
    {
     "name": "stdout",
     "output_type": "stream",
     "text": [
      "Enter the first no.:3\n",
      "Enter the second no.:4\n",
      " 1. Add \n",
      " 2. Sub\n",
      " 3. Mult\n",
      " 4. Div\n",
      "Chosse one of the Operations:2\n",
      "Ans: -1\n"
     ]
    }
   ],
   "source": [
    "class calc:\n",
    "    def __init__(self,a,b):\n",
    "        self.a=a\n",
    "        self.b=b\n",
    "     \n",
    "    def add(self):\n",
    "        return self.a+self.b\n",
    "    def sub(self):\n",
    "        return self.a-self.b\n",
    "    def mult(self):\n",
    "        return self.a*self.b\n",
    "    def div(self):\n",
    "        return self.a/self.b\n",
    "\n",
    "a = int(input(\"Enter the first no.:\"))\n",
    "b = int(input(\"Enter the second no.:\"))\n",
    "obj = calc(a,b)\n",
    "\n",
    "def operation():\n",
    "    x=(\" 1. Add \\n 2. Sub\\n 3. Mult\\n 4. Div\")\n",
    "    print(x)\n",
    "operation()\n",
    "\n",
    "option = int(input(\"Chosse one of the Operations:\"))\n",
    "if option==1:\n",
    "    print(\"Ans:\", obj.add())\n",
    "elif option==2:\n",
    "    print(\"Ans:\", obj.sub())       \n",
    "elif option==3:\n",
    "    print(\"Ans:\", obj.mult())  \n",
    "elif option==4:\n",
    "    print(\"Ans:\", obj.div())\n",
    "else:\n",
    "    print(\"Invalid choice\")"
   ]
  },
  {
   "cell_type": "code",
   "execution_count": null,
   "metadata": {},
   "outputs": [],
   "source": []
  }
 ],
 "metadata": {
  "kernelspec": {
   "display_name": "Python 3",
   "language": "python",
   "name": "python3"
  },
  "language_info": {
   "codemirror_mode": {
    "name": "ipython",
    "version": 3
   },
   "file_extension": ".py",
   "mimetype": "text/x-python",
   "name": "python",
   "nbconvert_exporter": "python",
   "pygments_lexer": "ipython3",
   "version": "3.8.3"
  }
 },
 "nbformat": 4,
 "nbformat_minor": 4
}
